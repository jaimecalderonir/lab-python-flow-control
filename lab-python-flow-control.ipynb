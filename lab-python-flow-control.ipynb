{
 "cells": [
  {
   "cell_type": "markdown",
   "id": "d3bfc191-8885-42ee-b0a0-bbab867c6f9f",
   "metadata": {
    "tags": []
   },
   "source": [
    "# Lab | Flow Control"
   ]
  },
  {
   "cell_type": "markdown",
   "id": "3851fcd1-cf98-4653-9c89-e003b7ec9400",
   "metadata": {},
   "source": [
    "## Exercise: Managing Customer Orders Optimized\n",
    "\n",
    "In the last lab, you were starting an online store that sells various products. To ensure smooth operations, you developed a program that manages customer orders and inventory.\n",
    "\n",
    "You did so without using flow control. Let's go a step further and improve this code.\n",
    "\n",
    "Follow the steps below to complete the exercise:\n",
    "\n",
    "1. Look at your code from the lab data structures, and improve repeated code with loops.\n",
    "\n",
    "2. Instead of asking the user to input the name of three products that a customer wants to order, do the following:\n",
    "    \n",
    "    a. Prompt the user to enter the name of a product that a customer wants to order.\n",
    "    \n",
    "    b. Add the product name to the \"customer_orders\" set.\n",
    "    \n",
    "    c. Ask the user if they want to add another product (yes/no).\n",
    "    \n",
    "    d. Continue the loop until the user does not want to add another product.\n",
    "\n",
    "3. Instead of updating the inventory by subtracting 1 from the quantity of each product, only do it for  the products that were ordered (those in \"customer_orders\")."
   ]
  },
  {
   "cell_type": "code",
   "execution_count": null,
   "id": "8044979a",
   "metadata": {},
   "outputs": [],
   "source": [
    "products = [\"t-shirt\", \"mug\", \"hat\", \"book\", \"keychain\"]\n",
    "inventory = {}\n",
    "for product in products:\n",
    "    inventory[product] = int(input(f\"How many {product}s\"))\n",
    "print(\"Inventory\", inventory)\n",
    "customer_orders = set()\n",
    "customer_orders.add(input(\"Enter product: \"))\n",
    "while True:\n",
    "    New_product = input(\"Would you like to enter another product?: (Enter the product, write 'NO' to leave) \")\n",
    "    if New_product == \"No\":\n",
    "        break\n",
    "    customer_orders.add(New_product)\n",
    "print(\"Customer Orders: \", customer_orders)\n",
    "total_customer_orders = len(customer_orders)\n",
    "print(\"Total customer orders:\", total_customer_orders)\n",
    "percentage_customer_orders = (total_customer_orders / len(products)) * 100\n",
    "print(\"Percentage:\", percentage_customer_orders)\n",
    "for p in customer_orders:\n",
    "    if p in inventory.keys():\n",
    "        inventory[p]-=1\n",
    "    else:\n",
    "        print(\"No product in inventory\")\n",
    "print(inventory)"
   ]
  },
  {
   "cell_type": "code",
   "execution_count": null,
   "id": "511b4881",
   "metadata": {},
   "outputs": [],
   "source": [
    "products = [\"t-shirt\", \"mug\", \"hat\", \"book\", \"keychain\"]\n",
    "inventory = {}\n",
    "for product in products:\n",
    "    inventory[product] = int(input(f\"How many {product}s\"))\n",
    "print(\"Inventory\", inventory)\n",
    "customer_orders = set()\n",
    "for new_products in range (3):\n",
    "    customer_orders.add(input(\"enter product \"))\n",
    "print(\"Customer Orders\", customer_orders)\n",
    "total_customer_orders = len(customer_orders)\n",
    "print(\"Total customer orders:\", total_customer_orders)\n",
    "percentage_customer_orders = (total_customer_orders / len(products)) * 100\n",
    "print(\"Percentage:\", percentage_customer_orders)\n",
    "for p in inventory.keys(): \n",
    "    if inventory[p] > 0:\n",
    "        inventory[p]-= 1\n",
    "    else:\n",
    "        print(\"No products left on: \", p)\n",
    "print(inventory)"
   ]
  }
 ],
 "metadata": {
  "kernelspec": {
   "display_name": "Python 3 (ipykernel)",
   "language": "python",
   "name": "python3"
  },
  "language_info": {
   "codemirror_mode": {
    "name": "ipython",
    "version": 3
   },
   "file_extension": ".py",
   "mimetype": "text/x-python",
   "name": "python",
   "nbconvert_exporter": "python",
   "pygments_lexer": "ipython3",
   "version": "3.8.2"
  }
 },
 "nbformat": 4,
 "nbformat_minor": 5
}
